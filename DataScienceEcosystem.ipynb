{
 "cells": [
  {
   "cell_type": "markdown",
   "id": "357b3640-0d52-49ca-b395-18563a186ab4",
   "metadata": {},
   "source": [
    "<h1> Data Science Tools and Ecosystem <h/>"
   ]
  },
  {
   "cell_type": "markdown",
   "id": "61550d66-e7db-41fb-942a-5bbb8faa2481",
   "metadata": {},
   "source": [
    "In this notebook, Data Science Tools and Ecosystem are summarized. My journey as a Data Scientist begins!"
   ]
  },
  {
   "cell_type": "markdown",
   "id": "4b3ef5d3-129b-4071-83a2-88df120a2121",
   "metadata": {},
   "source": [
    "Some of the popular languages that Data Scientists use are:\n",
    "1. Python\n",
    "2. R\n",
    "3. Ruby\n",
    "4. Scala\n",
    "5. SQL"
   ]
  },
  {
   "cell_type": "markdown",
   "id": "95ee4394-cbc6-4663-9be9-57d7cd88ee1f",
   "metadata": {},
   "source": [
    "Some of the commonly used libraries used by Data Scientists include:\n",
    "    ordered list\n",
    "    1. Keras\n",
    "    2. NumPy\n",
    "    3. Pandas\n",
    "    4. SciPy\n",
    "    5. SciKit-Learn\n",
    "    6. Tensorflow\n",
    "   "
   ]
  },
  {
   "cell_type": "markdown",
   "id": "d5442220-ea2f-4374-9792-3413479db78c",
   "metadata": {
    "tags": []
   },
   "source": [
    "<h1>Table</hr>"
   ]
  },
  {
   "cell_type": "markdown",
   "id": "e4e8d796-ceda-4a22-b6ae-8c9022618073",
   "metadata": {},
   "source": [
    "| Data Science Tools |\n",
    "|--------------------|\n",
    "| Hadoop             |\n",
    "| RStudio            |\n",
    "| Apache Spark       |"
   ]
  },
  {
   "cell_type": "markdown",
   "id": "025540b4-255d-40db-b82a-2ecfd5e12da3",
   "metadata": {},
   "source": [
    "<h3>Below are a few examples of evaluating arithmetic expressions in Python</hr>"
   ]
  },
  {
   "cell_type": "markdown",
   "id": "8d8478ff-4872-4fbe-9550-0e55473fbbad",
   "metadata": {
    "tags": []
   },
   "source": [
    "# This a simple arithmetic expression to mutiply then add integers "
   ]
  },
  {
   "cell_type": "markdown",
   "id": "771c8302-a3c5-47d4-b6a2-ac01810baf35",
   "metadata": {
    "tags": []
   },
   "source": [
    "(3*4)+5"
   ]
  },
  {
   "cell_type": "markdown",
   "id": "f2ad1cb4-9bbd-4678-bc29-0b572b99c4b1",
   "metadata": {},
   "source": [
    "# This will convert 200 minutes to hours by diving by 60"
   ]
  },
  {
   "cell_type": "markdown",
   "id": "df0143fd-67f9-494f-ac79-1cfe050d3afc",
   "metadata": {},
   "source": [
    "hours = 200/60\n",
    "print (hours)"
   ]
  },
  {
   "cell_type": "markdown",
   "id": "1d0c3911-1d63-4440-bed8-a72fbe692fb3",
   "metadata": {},
   "source": [
    "In this notebook, Data Science Tools and Ecosystem are summarized."
   ]
  },
  {
   "cell_type": "markdown",
   "id": "a0a2c0cd-c226-4e19-bb2d-7c4b087a50dd",
   "metadata": {},
   "source": [
    "<h1> Objectives: <h1/>\n",
    "    \n",
    "    - Create a Jupyter Notebook with markdown and code cells\n",
    "    - List examples of languages, libraries and tools used in Data Science\n",
    "    - Share your Jupyter Notebook publicly on GitHub\n",
    "    - Evaluate notebooks submitted by your peers using the provided rubric\n",
    "    - Demonstrate proficiency in Data Science toolkit knowledge"
   ]
  },
  {
   "cell_type": "markdown",
   "id": "c0c201c4-1176-4cd2-afdf-34da21ae8bcb",
   "metadata": {},
   "source": [
    "<h2> Author <b> <h/>\n",
    "    \n",
    "    Raeon Bryan"
   ]
  }
 ],
 "metadata": {
  "kernelspec": {
   "display_name": "Python",
   "language": "python",
   "name": "conda-env-python-py"
  },
  "language_info": {
   "codemirror_mode": {
    "name": "ipython",
    "version": 3
   },
   "file_extension": ".py",
   "mimetype": "text/x-python",
   "name": "python",
   "nbconvert_exporter": "python",
   "pygments_lexer": "ipython3",
   "version": "3.7.12"
  }
 },
 "nbformat": 4,
 "nbformat_minor": 5
}
